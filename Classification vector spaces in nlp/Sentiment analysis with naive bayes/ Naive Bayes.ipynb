{
 "cells": [
  {
   "cell_type": "code",
   "execution_count": 1,
   "id": "3e97db5b",
   "metadata": {},
   "outputs": [],
   "source": [
    "from utils import process_tweets,lookup,build_freqs\n",
    "import pdb\n",
    "from nltk.corpus import stopwords, twitter_samples\n",
    "import numpy as np\n",
    "import pandas as pd\n",
    "import nltk\n",
    "import string\n",
    "from nltk.tokenize import TweetTokenizer\n",
    "from os import getcwd"
   ]
  },
  {
   "cell_type": "code",
   "execution_count": 2,
   "id": "d29e3645",
   "metadata": {},
   "outputs": [],
   "source": [
    "all_positive_tweets = twitter_samples.strings('positive_tweets.json')\n",
    "all_negative_tweets = twitter_samples.strings('negative_tweets.json')\n",
    "\n",
    "test_pos = all_positive_tweets[4000:]\n",
    "train_pos = all_positive_tweets[:4000]\n",
    "test_neg = all_negative_tweets[4000:]\n",
    "train_neg = all_negative_tweets[:4000]\n",
    "\n",
    "train_x = train_pos + train_neg\n",
    "test_x = test_pos + test_neg\n",
    "\n",
    "train_y = np.append(np.ones(len(train_pos)), np.zeros(len(train_neg)))\n",
    "test_y = np.append(np.ones(len(test_pos)), np.zeros(len(test_neg)))"
   ]
  },
  {
   "cell_type": "code",
   "execution_count": 3,
   "id": "e38d383f",
   "metadata": {},
   "outputs": [],
   "source": [
    "freqs=build_freqs(train_x,train_y)"
   ]
  },
  {
   "cell_type": "code",
   "execution_count": 4,
   "id": "f9d2e146",
   "metadata": {},
   "outputs": [],
   "source": [
    "def NavieBayes(freqs,train_x,train_y):\n",
    "    loglikelihood = {}\n",
    "    logprior = 0\n",
    "    vocab = set([i[0] for i in freqs.keys()])\n",
    "    V = len(vocab)\n",
    "    N_pos,N_neg = 0,0\n",
    "    for pair in freqs.keys():\n",
    "        if pair[1] == 1: N_pos += freqs[pair]\n",
    "        else: N_neg += freqs[pair]\n",
    "    D = len(train_y)\n",
    "    Dpos = int(sum(train_y))\n",
    "    Dneg = D-Dpos\n",
    "    logprior = np.log(Dpos) - np.log(Dneg)\n",
    "    for word in vocab:\n",
    "        freqpos = lookup(freqs,word,1)\n",
    "        freqneg = lookup(freqs,word,0)\n",
    "        pwpos = (freqpos+1)/(V+N_pos)\n",
    "        pwneg = (freqneg+1)/(V+N_neg)\n",
    "        loglikelihood[word] = np.log(pwpos) - np.log(pwneg)\n",
    "    return logprior,loglikelihood"
   ]
  },
  {
   "cell_type": "code",
   "execution_count": 5,
   "id": "83b2a904",
   "metadata": {},
   "outputs": [
    {
     "name": "stdout",
     "output_type": "stream",
     "text": [
      "0.0\n",
      "9084\n"
     ]
    }
   ],
   "source": [
    "logprior, loglikelihood = NavieBayes(freqs,train_x,train_y)\n",
    "print(logprior)\n",
    "print(len(loglikelihood))"
   ]
  },
  {
   "cell_type": "code",
   "execution_count": 6,
   "id": "ec72f4be",
   "metadata": {},
   "outputs": [],
   "source": [
    "def predict(tweet,loglikelihood,logprior):\n",
    "    words = process_tweets(tweet)\n",
    "    p = 0\n",
    "    p = p + logprior\n",
    "    for word in words:\n",
    "        if word in loglikelihood:\n",
    "            p += loglikelihood[word]\n",
    "    return p"
   ]
  },
  {
   "cell_type": "code",
   "execution_count": 7,
   "id": "142c1969",
   "metadata": {},
   "outputs": [
    {
     "name": "stdout",
     "output_type": "stream",
     "text": [
      "The expected output is 6.413549166620699\n"
     ]
    }
   ],
   "source": [
    "my_tweet = 'great great great.'\n",
    "p = predict(my_tweet,loglikelihood,logprior)\n",
    "print('The expected output is', p)"
   ]
  },
  {
   "cell_type": "code",
   "execution_count": 8,
   "id": "4b00de9d",
   "metadata": {},
   "outputs": [],
   "source": [
    "def test_naive_bayes(test_x, test_y, logprior, loglikelihood):\n",
    "    accuracy = 0 \n",
    "    y_hats = []\n",
    "    for tweet in test_x:\n",
    "        if predict(tweet,loglikelihood,logprior) > 0:\n",
    "            y_hat_i = 1\n",
    "        else:\n",
    "            y_hat_i = 0\n",
    "        y_hats.append(y_hat_i)\n",
    "    error = np.mean(np.absolute(y_hats-test_y))\n",
    "    accuracy = 1-error\n",
    "    return accuracy"
   ]
  },
  {
   "cell_type": "code",
   "execution_count": 9,
   "id": "bd4bf504",
   "metadata": {},
   "outputs": [
    {
     "name": "stdout",
     "output_type": "stream",
     "text": [
      "Naive Bayes accuracy = 0.9940\n"
     ]
    }
   ],
   "source": [
    "print(\"Naive Bayes accuracy = %0.4f\" %\n",
    "      (test_naive_bayes(test_x, test_y, logprior, loglikelihood)))"
   ]
  },
  {
   "cell_type": "code",
   "execution_count": 10,
   "id": "71108aaf",
   "metadata": {},
   "outputs": [
    {
     "name": "stdout",
     "output_type": "stream",
     "text": [
      "I am happy -> 2.15\n",
      "I am bad -> -1.29\n",
      "this movie should have been great. -> 2.14\n",
      "great -> 2.14\n",
      "great great -> 4.28\n",
      "great great great -> 6.41\n",
      "great great great great -> 8.55\n"
     ]
    }
   ],
   "source": [
    "for tweet in ['I am happy', 'I am bad', 'this movie should have been great.', 'great', 'great great', 'great great great', 'great great great great']:\n",
    "    p = predict(tweet, loglikelihood, logprior)\n",
    "    print(f'{tweet} -> {p:.2f}')"
   ]
  }
 ],
 "metadata": {
  "kernelspec": {
   "display_name": "Python 3",
   "language": "python",
   "name": "python3"
  },
  "language_info": {
   "codemirror_mode": {
    "name": "ipython",
    "version": 3
   },
   "file_extension": ".py",
   "mimetype": "text/x-python",
   "name": "python",
   "nbconvert_exporter": "python",
   "pygments_lexer": "ipython3",
   "version": "3.8.8"
  }
 },
 "nbformat": 4,
 "nbformat_minor": 5
}
