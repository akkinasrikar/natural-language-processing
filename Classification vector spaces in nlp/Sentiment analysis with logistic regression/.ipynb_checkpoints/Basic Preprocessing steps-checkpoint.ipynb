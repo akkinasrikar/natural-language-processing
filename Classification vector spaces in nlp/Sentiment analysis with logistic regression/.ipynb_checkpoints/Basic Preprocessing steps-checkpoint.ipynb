{
 "cells": [
  {
   "cell_type": "code",
   "execution_count": 1,
   "id": "d0248c3b",
   "metadata": {},
   "outputs": [],
   "source": [
    "import nltk                                \n",
    "from nltk.corpus import twitter_samples    \n",
    "import matplotlib.pyplot as plt            \n",
    "import random  "
   ]
  },
  {
   "cell_type": "code",
   "execution_count": 2,
   "id": "14e04364",
   "metadata": {},
   "outputs": [],
   "source": [
    "pos_tweets=twitter_samples.strings(\"positive_tweets.json\")\n",
    "neg_tweets=twitter_samples.strings(\"negative_tweets.json\")"
   ]
  },
  {
   "cell_type": "code",
   "execution_count": 3,
   "id": "fc784f81",
   "metadata": {},
   "outputs": [
    {
     "name": "stdout",
     "output_type": "stream",
     "text": [
      "Number of positive tweets:  5000\n",
      "Number of negative tweets:  5000\n"
     ]
    }
   ],
   "source": [
    "print('Number of positive tweets: ', len(pos_tweets))\n",
    "print('Number of negative tweets: ', len(neg_tweets))"
   ]
  },
  {
   "cell_type": "code",
   "execution_count": 4,
   "id": "693ebe87",
   "metadata": {},
   "outputs": [
    {
     "data": {
      "text/plain": [
       "['#FollowFriday @France_Inte @PKuchly57 @Milipol_Paris for being top engaged members in my community this week :)',\n",
       " '@Lamb2ja Hey James! How odd :/ Please call our Contact Centre on 02392441234 and we will be able to assist you :) Many thanks!',\n",
       " '@DespiteOfficial we had a listen last night :) As You Bleed is an amazing track. When are you in Scotland?!',\n",
       " '@97sides CONGRATS :)',\n",
       " 'yeaaaah yippppy!!!  my accnt verified rqst has succeed got a blue tick mark on my fb profile :) in 15 days']"
      ]
     },
     "execution_count": 4,
     "metadata": {},
     "output_type": "execute_result"
    }
   ],
   "source": [
    "pos_tweets[:5]"
   ]
  },
  {
   "cell_type": "code",
   "execution_count": 5,
   "id": "16658c0a",
   "metadata": {},
   "outputs": [
    {
     "data": {
      "text/plain": [
       "['hopeless for tmr :(',\n",
       " \"Everything in the kids section of IKEA is so cute. Shame I'm nearly 19 in 2 months :(\",\n",
       " '@Hegelbon That heart sliding into the waste basket. :(',\n",
       " '“@ketchBurning: I hate Japanese call him \"bani\" :( :(”\\n\\nMe too',\n",
       " 'Dang starting next week I have \"work\" :(']"
      ]
     },
     "execution_count": 5,
     "metadata": {},
     "output_type": "execute_result"
    }
   ],
   "source": [
    "neg_tweets[:5]"
   ]
  },
  {
   "cell_type": "code",
   "execution_count": 6,
   "id": "8b81b9b5",
   "metadata": {},
   "outputs": [
    {
     "data": {
      "image/png": "[encoded data removed]",
      "text/plain": [
       "<Figure size 360x360 with 1 Axes>"
      ]
     },
     "metadata": {},
     "output_type": "display_data"
    }
   ],
   "source": [
    "plt.figure(figsize=(5,5))\n",
    "labels=[\"Positive\",\"Negative\"]\n",
    "size=[len(pos_tweets),len(neg_tweets)]\n",
    "plt.pie(size,labels=labels,shadow=True,startangle=90,autopct='%1.1f%%')\n",
    "plt.axis(\"equal\")\n",
    "plt.show()"
   ]
  },
  {
   "cell_type": "code",
   "execution_count": 7,
   "id": "385ff6dc",
   "metadata": {},
   "outputs": [
    {
     "name": "stdout",
     "output_type": "stream",
     "text": [
      "\u001b[92mHey @globmobcom Thanks For Following :) \n",
      "\n",
      "#AutoFollow #TeamFollowback http://t.co/chhWQ9DHgO via http://t.co/xMohgOWIVJ\n",
      "\u001b[91mI'll so busy with school :((\n"
     ]
    }
   ],
   "source": [
    "print('\\033[92m' + pos_tweets[random.randint(0,5000)]) #Green\n",
    "print('\\033[91m' + neg_tweets[random.randint(0,5000)]) #Red"
   ]
  },
  {
   "cell_type": "code",
   "execution_count": 8,
   "id": "197ce150",
   "metadata": {},
   "outputs": [
    {
     "data": {
      "text/plain": [
       "'My beautiful sunflowers on a sunny Friday morning off :) #sunflowers #favourites #happy #Friday off… https://t.co/3tfYom0N1i'"
      ]
     },
     "execution_count": 8,
     "metadata": {},
     "output_type": "execute_result"
    }
   ],
   "source": [
    "tweet=pos_tweets[2277]\n",
    "tweet"
   ]
  },
  {
   "cell_type": "code",
   "execution_count": 9,
   "id": "ad09112a",
   "metadata": {},
   "outputs": [],
   "source": [
    "import re,string\n",
    "from nltk.corpus import stopwords\n",
    "from nltk.stem import PorterStemmer\n",
    "from nltk.tokenize import TweetTokenizer"
   ]
  },
  {
   "cell_type": "code",
   "execution_count": 13,
   "id": "3ea9142e",
   "metadata": {},
   "outputs": [
    {
     "name": "stdout",
     "output_type": "stream",
     "text": [
      "My beautiful sunflowers on a sunny Friday morning off :) #sunflowers #favourites #happy #Friday off… https://t.co/3tfYom0N1i\n",
      "My beautiful sunflowers on a sunny Friday morning off :) #sunflowers #favourites #happy #Friday off… \n",
      "My beautiful sunflowers on a sunny Friday morning off :) sunflowers favourites happy Friday off… \n"
     ]
    }
   ],
   "source": [
    "#removing re tweet text\n",
    "new_tweet=re.sub(r'^RT[\\s]+', '', tweet)\n",
    "print(new_tweet)\n",
    "#removing hyperlinks\n",
    "new_tweet=re.sub(r'https?:\\/\\/.*[\\r\\n]*', '', new_tweet)\n",
    "print(new_tweet)\n",
    "#removing only # sign\n",
    "new_tweet=re.sub(r\"#\",'',new_tweet)\n",
    "print(new_tweet)"
   ]
  },
  {
   "cell_type": "code",
   "execution_count": 14,
   "id": "9f80ec8d",
   "metadata": {},
   "outputs": [
    {
     "name": "stdout",
     "output_type": "stream",
     "text": [
      "Tokenized string\n",
      "['my', 'beautiful', 'sunflowers', 'on', 'a', 'sunny', 'friday', 'morning', 'off', ':)', 'sunflowers', 'favourites', 'happy', 'friday', 'off', '…']\n"
     ]
    }
   ],
   "source": [
    "tokenizer=TweetTokenizer(preserve_case=False,strip_handles=True,reduce_len=True)\n",
    "tweet_tokens=tokenizer.tokenize(new_tweet)\n",
    "print(\"Tokenized string\")\n",
    "print(tweet_tokens)"
   ]
  },
  {
   "cell_type": "code",
   "execution_count": 16,
   "id": "17af677d",
   "metadata": {},
   "outputs": [
    {
     "name": "stdout",
     "output_type": "stream",
     "text": [
      "Stop words\n",
      "\n",
      "['i', 'me', 'my', 'myself', 'we', 'our', 'ours', 'ourselves', 'you', \"you're\", \"you've\", \"you'll\", \"you'd\", 'your', 'yours', 'yourself', 'yourselves', 'he', 'him', 'his', 'himself', 'she', \"she's\", 'her', 'hers', 'herself', 'it', \"it's\", 'its', 'itself', 'they', 'them', 'their', 'theirs', 'themselves', 'what', 'which', 'who', 'whom', 'this', 'that', \"that'll\", 'these', 'those', 'am', 'is', 'are', 'was', 'were', 'be', 'been', 'being', 'have', 'has', 'had', 'having', 'do', 'does', 'did', 'doing', 'a', 'an', 'the', 'and', 'but', 'if', 'or', 'because', 'as', 'until', 'while', 'of', 'at', 'by', 'for', 'with', 'about', 'against', 'between', 'into', 'through', 'during', 'before', 'after', 'above', 'below', 'to', 'from', 'up', 'down', 'in', 'out', 'on', 'off', 'over', 'under', 'again', 'further', 'then', 'once', 'here', 'there', 'when', 'where', 'why', 'how', 'all', 'any', 'both', 'each', 'few', 'more', 'most', 'other', 'some', 'such', 'no', 'nor', 'not', 'only', 'own', 'same', 'so', 'than', 'too', 'very', 's', 't', 'can', 'will', 'just', 'don', \"don't\", 'should', \"should've\", 'now', 'd', 'll', 'm', 'o', 're', 've', 'y', 'ain', 'aren', \"aren't\", 'couldn', \"couldn't\", 'didn', \"didn't\", 'doesn', \"doesn't\", 'hadn', \"hadn't\", 'hasn', \"hasn't\", 'haven', \"haven't\", 'isn', \"isn't\", 'ma', 'mightn', \"mightn't\", 'mustn', \"mustn't\", 'needn', \"needn't\", 'shan', \"shan't\", 'shouldn', \"shouldn't\", 'wasn', \"wasn't\", 'weren', \"weren't\", 'won', \"won't\", 'wouldn', \"wouldn't\"]\n",
      "\n",
      "Punctuation\n",
      "\n",
      "!\"#$%&'()*+,-./:;<=>?@[\\]^_`{|}~\n"
     ]
    }
   ],
   "source": [
    "stopwords_english = stopwords.words('english') \n",
    "print('Stop words\\n')\n",
    "print(stopwords_english)\n",
    "print('\\nPunctuation\\n')\n",
    "print(string.punctuation)"
   ]
  },
  {
   "cell_type": "code",
   "execution_count": 22,
   "id": "4124c2fe",
   "metadata": {},
   "outputs": [],
   "source": [
    "tweet_tokens=list(set([i for i in tweet_tokens if (i not in stopwords_english and i not in string.punctuation)]))"
   ]
  },
  {
   "cell_type": "code",
   "execution_count": 23,
   "id": "8c1c4069",
   "metadata": {},
   "outputs": [
    {
     "data": {
      "text/plain": [
       "['…',\n",
       " ':)',\n",
       " 'happy',\n",
       " 'sunny',\n",
       " 'sunflowers',\n",
       " 'favourites',\n",
       " 'morning',\n",
       " 'beautiful',\n",
       " 'friday']"
      ]
     },
     "execution_count": 23,
     "metadata": {},
     "output_type": "execute_result"
    }
   ],
   "source": [
    "tweet_tokens"
   ]
  },
  {
   "cell_type": "code",
   "execution_count": 24,
   "id": "09f19266",
   "metadata": {},
   "outputs": [
    {
     "data": {
      "text/plain": [
       "['…',\n",
       " ':)',\n",
       " 'happi',\n",
       " 'sunni',\n",
       " 'sunflow',\n",
       " 'favourit',\n",
       " 'morn',\n",
       " 'beauti',\n",
       " 'friday']"
      ]
     },
     "execution_count": 24,
     "metadata": {},
     "output_type": "execute_result"
    }
   ],
   "source": [
    "stemmer=PorterStemmer()\n",
    "tweets_stem=[stemmer.stem(i) for i in tweet_tokens]\n",
    "tweets_stem"
   ]
  },
  {
   "cell_type": "code",
   "execution_count": 25,
   "id": "e1c401fc",
   "metadata": {},
   "outputs": [],
   "source": [
    "from utils import process_tweets"
   ]
  },
  {
   "cell_type": "code",
   "execution_count": 26,
   "id": "1e1e2c95",
   "metadata": {},
   "outputs": [
    {
     "data": {
      "text/plain": [
       "['…',\n",
       " ':)',\n",
       " 'favourit',\n",
       " 'sunni',\n",
       " 'happi',\n",
       " 'sunflow',\n",
       " 'beauti',\n",
       " 'morn',\n",
       " 'friday']"
      ]
     },
     "execution_count": 26,
     "metadata": {},
     "output_type": "execute_result"
    }
   ],
   "source": [
    "process_tweets(new_tweet)"
   ]
  }
 ],
 "metadata": {
  "kernelspec": {
   "display_name": "Python 3",
   "language": "python",
   "name": "python3"
  },
  "language_info": {
   "codemirror_mode": {
    "name": "ipython",
    "version": 3
   },
   "file_extension": ".py",
   "mimetype": "text/x-python",
   "name": "python",
   "nbconvert_exporter": "python",
   "pygments_lexer": "ipython3",
   "version": "3.7.10"
  }
 },
 "nbformat": 4,
 "nbformat_minor": 5
}
