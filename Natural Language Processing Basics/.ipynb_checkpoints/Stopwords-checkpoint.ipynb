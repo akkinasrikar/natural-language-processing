{
 "cells": [
  {
   "cell_type": "code",
   "execution_count": 1,
   "metadata": {},
   "outputs": [],
   "source": [
    "import spacy"
   ]
  },
  {
   "cell_type": "code",
   "execution_count": 2,
   "metadata": {},
   "outputs": [],
   "source": [
    "nlp=spacy.load('en_core_web_sm')"
   ]
  },
  {
   "cell_type": "code",
   "execution_count": 3,
   "metadata": {},
   "outputs": [
    {
     "name": "stdout",
     "output_type": "stream",
     "text": [
      "{'below', 'alone', 'ever', 'have', 'nothing', 'most', 'indeed', 'nevertheless', \"'d\", 'is', 'amongst', 'serious', 'this', 'thus', 'yours', 'often', 'forty', 'seem', 'done', 'he', 'per', 'had', 'moreover', 'against', 'meanwhile', 'all', 'somehow', 'onto', 'three', 'why', 'each', 'beforehand', 'thereafter', 'whether', 'both', 'was', 'everywhere', 'others', 'himself', 'whatever', 'a', 'an', 'whenever', 'within', 'take', 'very', 'hereafter', 'thereby', 'under', 'becoming', 'everything', 'hers', 'using', 'those', 'other', 'to', 'move', 'least', 'however', 'more', 'twelve', 'became', 'whose', 'just', 'elsewhere', 'rather', 'something', 'we', 'us', 'yourselves', 'no', 'much', 'regarding', 'she', 'can', 'at', 'and', '‘ll', 'go', 'how', 'put', 'see', 'sometime', \"'s\", 'always', 'you', 'so', 'they', 'now', 'seems', 'ten', 'any', 'call', 'cannot', 'first', 'i', 'side', 'ours', 'sometimes', 'every', 'doing', 'sixty', 'their', 'n‘t', 'there', 'has', 'about', 'because', 'already', 'that', 'or', 'wherein', 'while', 'name', 'anything', 'empty', 'down', 'seeming', 'keep', 'whereafter', 'are', 'behind', 'last', '‘s', 'thereupon', 'latterly', 'in', 'be', 'who', 'made', 'unless', 'into', 'get', 'such', 'where', 'via', 'whom', 'out', 'what', 'become', 'therefore', 'without', 'whole', 'too', 'hundred', 'along', 'only', 'two', 'herself', 'many', 'except', 'between', 'though', 'after', 'nowhere', 'six', 'upon', 'through', 'else', 'mine', 'anyway', \"'ve\", 'perhaps', 'afterwards', 'used', 'almost', 'than', 'enough', 'themselves', 'yourself', 'it', 'among', 'eight', 'toward', 'well', 'would', 'third', 'eleven', '’ll', 'on', 'still', 'here', 'latter', 'him', 'whither', 'as', 'front', 'when', 'thence', 'itself', 'even', \"'re\", 'which', 'could', 'before', 'around', 'say', 'for', 'up', \"'m\", 'show', 'towards', 're', 'beside', 'becomes', 'anywhere', 'nine', 'due', 'been', 'wherever', 'neither', 'by', 'part', 'otherwise', '’d', 'myself', '‘ve', 'but', 'above', 'if', 'less', 'being', 'full', 'ourselves', 'formerly', 'thru', 'beyond', '’m', 'mostly', 'somewhere', 'with', 'whereas', 'never', 'namely', 'everyone', 'these', 'my', 'one', 'then', 'once', 'besides', 'own', 'amount', 'next', 'several', 'back', 'some', 'former', 'therein', '’s', 'from', 'must', 'our', 'top', 'although', 'nobody', 'anyone', 'nor', \"'ll\", 'also', 'same', 'further', 'will', 'over', 'off', 'quite', '‘d', 'four', 'bottom', 'were', 'either', 'your', 'across', 'noone', 'his', 'yet', 'make', 'whereby', 'another', 'does', 'anyhow', \"n't\", 'whereupon', 'me', 'since', 'them', 'ca', 'did', '‘re', 'hereby', 'her', 'the', 'hence', 'not', 'may', 'together', 'throughout', 'really', 'might', '‘m', 'whence', 'please', 'few', 'n’t', 'should', '’re', 'someone', 'seemed', 'of', 'give', 'during', 'until', 'none', 'herein', 'its', 'again', 'fifty', 'do', 'fifteen', 'twenty', 'am', 'five', 'various', '’ve', 'hereupon', 'whoever'}\n"
     ]
    }
   ],
   "source": [
    "print(nlp.Defaults.stop_words)"
   ]
  },
  {
   "cell_type": "code",
   "execution_count": 4,
   "metadata": {},
   "outputs": [
    {
     "name": "stdout",
     "output_type": "stream",
     "text": [
      "326\n"
     ]
    }
   ],
   "source": [
    "print(len(nlp.Defaults.stop_words))"
   ]
  },
  {
   "cell_type": "code",
   "execution_count": 6,
   "metadata": {},
   "outputs": [
    {
     "data": {
      "text/plain": [
       "True"
      ]
     },
     "execution_count": 6,
     "metadata": {},
     "output_type": "execute_result"
    }
   ],
   "source": [
    "nlp.vocab['is'].is_stop"
   ]
  },
  {
   "cell_type": "code",
   "execution_count": 7,
   "metadata": {},
   "outputs": [
    {
     "data": {
      "text/plain": [
       "False"
      ]
     },
     "execution_count": 7,
     "metadata": {},
     "output_type": "execute_result"
    }
   ],
   "source": [
    "nlp.vocab['Mystery'].is_stop"
   ]
  },
  {
   "cell_type": "code",
   "execution_count": 8,
   "metadata": {},
   "outputs": [],
   "source": [
    "nlp.Defaults.stop_words.add('btw')"
   ]
  },
  {
   "cell_type": "code",
   "execution_count": 10,
   "metadata": {},
   "outputs": [],
   "source": [
    "nlp.vocab['btw'].is_stop=True"
   ]
  },
  {
   "cell_type": "code",
   "execution_count": 11,
   "metadata": {},
   "outputs": [
    {
     "data": {
      "text/plain": [
       "327"
      ]
     },
     "execution_count": 11,
     "metadata": {},
     "output_type": "execute_result"
    }
   ],
   "source": [
    "len(nlp.Defaults.stop_words)"
   ]
  },
  {
   "cell_type": "code",
   "execution_count": 12,
   "metadata": {},
   "outputs": [],
   "source": [
    "nlp.Defaults.stop_words.remove('btw')"
   ]
  },
  {
   "cell_type": "code",
   "execution_count": 14,
   "metadata": {},
   "outputs": [],
   "source": [
    "nlp.vocab['btw'].is_stop=False"
   ]
  },
  {
   "cell_type": "code",
   "execution_count": null,
   "metadata": {},
   "outputs": [],
   "source": []
  }
 ],
 "metadata": {
  "kernelspec": {
   "display_name": "Python 3",
   "language": "python",
   "name": "python3"
  },
  "language_info": {
   "codemirror_mode": {
    "name": "ipython",
    "version": 3
   },
   "file_extension": ".py",
   "mimetype": "text/x-python",
   "name": "python",
   "nbconvert_exporter": "python",
   "pygments_lexer": "ipython3",
   "version": "3.7.3"
  }
 },
 "nbformat": 4,
 "nbformat_minor": 2
}
